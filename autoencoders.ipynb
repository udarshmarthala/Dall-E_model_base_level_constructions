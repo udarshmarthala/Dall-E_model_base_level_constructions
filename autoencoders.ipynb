{
 "cells": [
  {
   "cell_type": "markdown",
   "metadata": {},
   "source": [
    "# my code"
   ]
  },
  {
   "cell_type": "markdown",
   "metadata": {},
   "source": []
  },
  {
   "cell_type": "code",
   "execution_count": 19,
   "metadata": {
    "execution": {
     "iopub.execute_input": "2024-03-31T14:50:41.272651Z",
     "iopub.status.busy": "2024-03-31T14:50:41.272299Z",
     "iopub.status.idle": "2024-03-31T14:50:41.277270Z",
     "shell.execute_reply": "2024-03-31T14:50:41.276253Z",
     "shell.execute_reply.started": "2024-03-31T14:50:41.272601Z"
    }
   },
   "outputs": [],
   "source": [
    "import tensorflow as tf\n",
    "import keras\n",
    "import numpy as np"
   ]
  },
  {
   "cell_type": "code",
   "execution_count": 20,
   "metadata": {
    "execution": {
     "iopub.execute_input": "2024-03-31T14:50:51.787709Z",
     "iopub.status.busy": "2024-03-31T14:50:51.787295Z",
     "iopub.status.idle": "2024-03-31T14:50:52.167862Z",
     "shell.execute_reply": "2024-03-31T14:50:52.166774Z",
     "shell.execute_reply.started": "2024-03-31T14:50:51.787643Z"
    }
   },
   "outputs": [],
   "source": [
    "(x_train, y_train), (x_test, y_test) = keras.datasets.mnist.load_data()"
   ]
  },
  {
   "cell_type": "code",
   "execution_count": 21,
   "metadata": {
    "execution": {
     "iopub.execute_input": "2024-03-31T14:50:52.169477Z",
     "iopub.status.busy": "2024-03-31T14:50:52.169205Z",
     "iopub.status.idle": "2024-03-31T14:50:52.459811Z",
     "shell.execute_reply": "2024-03-31T14:50:52.458429Z",
     "shell.execute_reply.started": "2024-03-31T14:50:52.169435Z"
    }
   },
   "outputs": [
    {
     "data": {
      "text/plain": [
       "<matplotlib.image.AxesImage at 0x7d6afc782518>"
      ]
     },
     "execution_count": 21,
     "metadata": {},
     "output_type": "execute_result"
    },
    {
     "data": {
      "image/png": "[encoded data removed]",
      "text/plain": [
       "<Figure size 432x288 with 1 Axes>"
      ]
     },
     "metadata": {},
     "output_type": "display_data"
    }
   ],
   "source": [
    "import matplotlib.pyplot as plt\n",
    "plt.imshow(x_train[4])"
   ]
  },
  {
   "cell_type": "markdown",
   "metadata": {
    "execution": {
     "iopub.execute_input": "2024-03-31T12:05:34.809020Z",
     "iopub.status.busy": "2024-03-31T12:05:34.808243Z",
     "iopub.status.idle": "2024-03-31T12:05:34.814787Z",
     "shell.execute_reply": "2024-03-31T12:05:34.814089Z",
     "shell.execute_reply.started": "2024-03-31T12:05:34.808956Z"
    }
   },
   "source": [
    "# for reshaping the 2D image to 1D image"
   ]
  },
  {
   "cell_type": "code",
   "execution_count": 22,
   "metadata": {
    "execution": {
     "iopub.execute_input": "2024-03-31T14:50:52.462701Z",
     "iopub.status.busy": "2024-03-31T14:50:52.461911Z",
     "iopub.status.idle": "2024-03-31T14:50:52.469922Z",
     "shell.execute_reply": "2024-03-31T14:50:52.468682Z",
     "shell.execute_reply.started": "2024-03-31T14:50:52.462615Z"
    }
   },
   "outputs": [],
   "source": [
    "len1=len(x_train)\n",
    "len2=len(x_test)\n",
    "x_train=x_train.reshape(len1,28*28)\n",
    "x_test=x_test.reshape(len2,28*28)"
   ]
  },
  {
   "cell_type": "markdown",
   "metadata": {
    "execution": {
     "iopub.execute_input": "2024-03-31T12:10:42.661250Z",
     "iopub.status.busy": "2024-03-31T12:10:42.660811Z",
     "iopub.status.idle": "2024-03-31T12:10:42.684116Z",
     "shell.execute_reply": "2024-03-31T12:10:42.682671Z",
     "shell.execute_reply.started": "2024-03-31T12:10:42.661186Z"
    }
   },
   "source": [
    "# Rescaling of the pixels for ease of machine learning"
   ]
  },
  {
   "cell_type": "code",
   "execution_count": 23,
   "metadata": {
    "execution": {
     "iopub.execute_input": "2024-03-31T14:50:52.586815Z",
     "iopub.status.busy": "2024-03-31T14:50:52.586307Z",
     "iopub.status.idle": "2024-03-31T14:50:52.957441Z",
     "shell.execute_reply": "2024-03-31T14:50:52.956469Z",
     "shell.execute_reply.started": "2024-03-31T14:50:52.586768Z"
    }
   },
   "outputs": [
    {
     "data": {
      "text/plain": [
       "1.0"
      ]
     },
     "execution_count": 23,
     "metadata": {},
     "output_type": "execute_result"
    }
   ],
   "source": [
    "x_train=x_train/255.0\n",
    "x_test=x_test/255.0\n",
    "x_test.max()"
   ]
  },
  {
   "cell_type": "markdown",
   "metadata": {},
   "source": [
    "# Model Creation"
   ]
  },
  {
   "cell_type": "code",
   "execution_count": 24,
   "metadata": {
    "execution": {
     "iopub.execute_input": "2024-03-31T14:50:52.959532Z",
     "iopub.status.busy": "2024-03-31T14:50:52.959109Z",
     "iopub.status.idle": "2024-03-31T14:50:52.964248Z",
     "shell.execute_reply": "2024-03-31T14:50:52.962876Z",
     "shell.execute_reply.started": "2024-03-31T14:50:52.959371Z"
    }
   },
   "outputs": [],
   "source": [
    "from keras.layers import Dense, Input\n",
    "from keras.models import Model"
   ]
  },
  {
   "cell_type": "code",
   "execution_count": 25,
   "metadata": {
    "execution": {
     "iopub.execute_input": "2024-03-31T14:50:53.092133Z",
     "iopub.status.busy": "2024-03-31T14:50:53.091784Z",
     "iopub.status.idle": "2024-03-31T14:50:53.097158Z",
     "shell.execute_reply": "2024-03-31T14:50:53.095886Z",
     "shell.execute_reply.started": "2024-03-31T14:50:53.092080Z"
    }
   },
   "outputs": [
    {
     "name": "stdout",
     "output_type": "stream",
     "text": [
      "784\n"
     ]
    }
   ],
   "source": [
    "no_of_inputs_cells=x_train.shape[1]\n",
    "print(no_of_inputs_cells)"
   ]
  },
  {
   "cell_type": "code",
   "execution_count": 26,
   "metadata": {
    "execution": {
     "iopub.execute_input": "2024-03-31T14:50:53.241429Z",
     "iopub.status.busy": "2024-03-31T14:50:53.241110Z",
     "iopub.status.idle": "2024-03-31T14:50:53.281438Z",
     "shell.execute_reply": "2024-03-31T14:50:53.280643Z",
     "shell.execute_reply.started": "2024-03-31T14:50:53.241379Z"
    }
   },
   "outputs": [],
   "source": [
    "inputs=Input(shape=(no_of_inputs_cells,))\n",
    "compressed_layer=Dense(32,activation='relu')(inputs)# represents that inputs layers output act as a input for this layer\n",
    "outputs=Dense(no_of_inputs_cells,activation='sigmoid')(compressed_layer)"
   ]
  },
  {
   "cell_type": "code",
   "execution_count": 27,
   "metadata": {
    "execution": {
     "iopub.execute_input": "2024-03-31T14:50:53.427265Z",
     "iopub.status.busy": "2024-03-31T14:50:53.426691Z",
     "iopub.status.idle": "2024-03-31T14:50:53.432497Z",
     "shell.execute_reply": "2024-03-31T14:50:53.431329Z",
     "shell.execute_reply.started": "2024-03-31T14:50:53.427183Z"
    }
   },
   "outputs": [],
   "source": [
    "autoencoder=Model(inputs,outputs)"
   ]
  },
  {
   "cell_type": "code",
   "execution_count": 28,
   "metadata": {
    "collapsed": true,
    "execution": {
     "iopub.execute_input": "2024-03-31T14:50:53.596497Z",
     "iopub.status.busy": "2024-03-31T14:50:53.596119Z",
     "iopub.status.idle": "2024-03-31T14:52:00.008771Z",
     "shell.execute_reply": "2024-03-31T14:52:00.007969Z",
     "shell.execute_reply.started": "2024-03-31T14:50:53.596430Z"
    },
    "jupyter": {
     "outputs_hidden": true
    }
   },
   "outputs": [
    {
     "name": "stdout",
     "output_type": "stream",
     "text": [
      "Epoch 1/30\n",
      "60000/60000 [==============================] - 2s 40us/step - loss: 0.0545\n",
      "Epoch 2/30\n",
      "60000/60000 [==============================] - 2s 38us/step - loss: 0.0260\n",
      "Epoch 3/30\n",
      "60000/60000 [==============================] - 2s 36us/step - loss: 0.0185\n",
      "Epoch 4/30\n",
      "60000/60000 [==============================] - 2s 36us/step - loss: 0.0149\n",
      "Epoch 5/30\n",
      "60000/60000 [==============================] - 2s 37us/step - loss: 0.0129\n",
      "Epoch 6/30\n",
      "60000/60000 [==============================] - 2s 38us/step - loss: 0.0118\n",
      "Epoch 7/30\n",
      "60000/60000 [==============================] - 2s 38us/step - loss: 0.0112\n",
      "Epoch 8/30\n",
      "60000/60000 [==============================] - 2s 37us/step - loss: 0.0108\n",
      "Epoch 9/30\n",
      "60000/60000 [==============================] - 2s 36us/step - loss: 0.0107\n",
      "Epoch 10/30\n",
      "60000/60000 [==============================] - 2s 37us/step - loss: 0.0105\n",
      "Epoch 11/30\n",
      "60000/60000 [==============================] - 2s 35us/step - loss: 0.0104\n",
      "Epoch 12/30\n",
      "60000/60000 [==============================] - 2s 36us/step - loss: 0.0104\n",
      "Epoch 13/30\n",
      "60000/60000 [==============================] - 2s 38us/step - loss: 0.0103\n",
      "Epoch 14/30\n",
      "60000/60000 [==============================] - 2s 40us/step - loss: 0.0103\n",
      "Epoch 15/30\n",
      "60000/60000 [==============================] - 2s 35us/step - loss: 0.0102\n",
      "Epoch 16/30\n",
      "60000/60000 [==============================] - 2s 36us/step - loss: 0.0102\n",
      "Epoch 17/30\n",
      "60000/60000 [==============================] - 2s 36us/step - loss: 0.0102\n",
      "Epoch 18/30\n",
      "60000/60000 [==============================] - 2s 36us/step - loss: 0.0102\n",
      "Epoch 19/30\n",
      "60000/60000 [==============================] - 2s 36us/step - loss: 0.0101\n",
      "Epoch 20/30\n",
      "60000/60000 [==============================] - 2s 36us/step - loss: 0.0101\n",
      "Epoch 21/30\n",
      "60000/60000 [==============================] - 2s 36us/step - loss: 0.0101\n",
      "Epoch 22/30\n",
      "60000/60000 [==============================] - 2s 36us/step - loss: 0.0101\n",
      "Epoch 23/30\n",
      "60000/60000 [==============================] - 2s 36us/step - loss: 0.0101\n",
      "Epoch 24/30\n",
      "60000/60000 [==============================] - 2s 37us/step - loss: 0.0101\n",
      "Epoch 25/30\n",
      "60000/60000 [==============================] - 2s 36us/step - loss: 0.0101\n",
      "Epoch 26/30\n",
      "60000/60000 [==============================] - 2s 35us/step - loss: 0.0100\n",
      "Epoch 27/30\n",
      "60000/60000 [==============================] - 2s 35us/step - loss: 0.0100\n",
      "Epoch 28/30\n",
      "60000/60000 [==============================] - 2s 40us/step - loss: 0.0100\n",
      "Epoch 29/30\n",
      "60000/60000 [==============================] - 2s 35us/step - loss: 0.0100\n",
      "Epoch 30/30\n",
      "60000/60000 [==============================] - 2s 37us/step - loss: 0.0100\n"
     ]
    }
   ],
   "source": [
    "autoencoder.compile(loss='mse',optimizer='adam')\n",
    "k=autoencoder.fit(x_train,x_train,epochs=30,batch_size=130)"
   ]
  },
  {
   "cell_type": "code",
   "execution_count": 29,
   "metadata": {
    "execution": {
     "iopub.execute_input": "2024-03-31T14:52:00.010548Z",
     "iopub.status.busy": "2024-03-31T14:52:00.010041Z",
     "iopub.status.idle": "2024-03-31T14:52:00.292857Z",
     "shell.execute_reply": "2024-03-31T14:52:00.291295Z",
     "shell.execute_reply.started": "2024-03-31T14:52:00.010493Z"
    }
   },
   "outputs": [
    {
     "data": {
      "text/plain": [
       "[<matplotlib.lines.Line2D at 0x7d6afc46d4a8>]"
      ]
     },
     "execution_count": 29,
     "metadata": {},
     "output_type": "execute_result"
    },
    {
     "data": {
      "image/png": "[encoded data removed]",
      "text/plain": [
       "<Figure size 432x288 with 1 Axes>"
      ]
     },
     "metadata": {},
     "output_type": "display_data"
    }
   ],
   "source": [
    "plt.plot(k.history['loss'])"
   ]
  },
  {
   "cell_type": "markdown",
   "metadata": {},
   "source": [
    "# taking the pretrained layers from the auto encoder model"
   ]
  },
  {
   "cell_type": "code",
   "execution_count": 31,
   "metadata": {
    "execution": {
     "iopub.execute_input": "2024-03-31T14:52:33.228972Z",
     "iopub.status.busy": "2024-03-31T14:52:33.228562Z",
     "iopub.status.idle": "2024-03-31T14:52:33.234642Z",
     "shell.execute_reply": "2024-03-31T14:52:33.233457Z",
     "shell.execute_reply.started": "2024-03-31T14:52:33.228906Z"
    }
   },
   "outputs": [],
   "source": [
    "encoder=Model(inputs,compressed_layer)\n"
   ]
  },
  {
   "cell_type": "code",
   "execution_count": 32,
   "metadata": {
    "execution": {
     "iopub.execute_input": "2024-03-31T14:52:37.553159Z",
     "iopub.status.busy": "2024-03-31T14:52:37.552760Z",
     "iopub.status.idle": "2024-03-31T14:52:37.564742Z",
     "shell.execute_reply": "2024-03-31T14:52:37.563639Z",
     "shell.execute_reply.started": "2024-03-31T14:52:37.553058Z"
    }
   },
   "outputs": [],
   "source": [
    "decoder_layer_input=Input(shape=(32,))\n",
    "decoder_layer_output=autoencoder.layers[-1](decoder_layer_input)\n",
    "decoder=Model(decoder_layer_input,decoder_layer_output)"
   ]
  },
  {
   "cell_type": "code",
   "execution_count": 33,
   "metadata": {
    "execution": {
     "iopub.execute_input": "2024-03-31T14:52:39.459828Z",
     "iopub.status.busy": "2024-03-31T14:52:39.459294Z",
     "iopub.status.idle": "2024-03-31T14:52:39.552448Z",
     "shell.execute_reply": "2024-03-31T14:52:39.551467Z",
     "shell.execute_reply.started": "2024-03-31T14:52:39.459569Z"
    }
   },
   "outputs": [
    {
     "data": {
      "text/plain": [
       "array([[ 2.1956313,  2.2851882,  5.515647 , ...,  4.459154 , 10.11599  ,\n",
       "         6.473868 ],\n",
       "       [ 5.7089567, 13.903061 ,  9.939836 , ...,  3.7233455,  3.7313335,\n",
       "         7.408652 ],\n",
       "       [ 1.5137167,  4.125868 ,  4.0444317, ...,  7.3494096,  4.027629 ,\n",
       "         5.4790177],\n",
       "       ...,\n",
       "       [10.644246 ,  6.667929 ,  4.082694 , ..., 11.212327 , 14.936528 ,\n",
       "        12.99337  ],\n",
       "       [ 8.257108 , 11.280346 ,  4.5623074, ...,  4.1807046, 10.1518135,\n",
       "        12.4890785],\n",
       "       [10.908356 , 11.040901 , 11.060839 , ..., 11.809058 , 15.281446 ,\n",
       "        12.968955 ]], dtype=float32)"
      ]
     },
     "execution_count": 33,
     "metadata": {},
     "output_type": "execute_result"
    }
   ],
   "source": [
    "data_compressed=encoder.predict(x_test,batch_size=130)\n",
    "data_compressed"
   ]
  },
  {
   "cell_type": "code",
   "execution_count": 34,
   "metadata": {
    "execution": {
     "iopub.execute_input": "2024-03-31T14:52:40.638315Z",
     "iopub.status.busy": "2024-03-31T14:52:40.637913Z",
     "iopub.status.idle": "2024-03-31T14:52:40.644230Z",
     "shell.execute_reply": "2024-03-31T14:52:40.643495Z",
     "shell.execute_reply.started": "2024-03-31T14:52:40.638240Z"
    }
   },
   "outputs": [
    {
     "data": {
      "text/plain": [
       "(10000, 32)"
      ]
     },
     "execution_count": 34,
     "metadata": {},
     "output_type": "execute_result"
    }
   ],
   "source": [
    "data_compressed.shape"
   ]
  },
  {
   "cell_type": "code",
   "execution_count": 35,
   "metadata": {
    "execution": {
     "iopub.execute_input": "2024-03-31T14:52:42.408146Z",
     "iopub.status.busy": "2024-03-31T14:52:42.407778Z",
     "iopub.status.idle": "2024-03-31T14:52:42.534022Z",
     "shell.execute_reply": "2024-03-31T14:52:42.533001Z",
     "shell.execute_reply.started": "2024-03-31T14:52:42.408058Z"
    }
   },
   "outputs": [],
   "source": [
    "data_output=decoder.predict(data_compressed,batch_size=130)"
   ]
  },
  {
   "cell_type": "code",
   "execution_count": 36,
   "metadata": {
    "execution": {
     "iopub.execute_input": "2024-03-31T14:52:43.519208Z",
     "iopub.status.busy": "2024-03-31T14:52:43.518505Z",
     "iopub.status.idle": "2024-03-31T14:52:43.523440Z",
     "shell.execute_reply": "2024-03-31T14:52:43.522463Z",
     "shell.execute_reply.started": "2024-03-31T14:52:43.518820Z"
    }
   },
   "outputs": [],
   "source": [
    "data_output=data_output.reshape(len(data_output),28,28)"
   ]
  },
  {
   "cell_type": "markdown",
   "metadata": {},
   "source": [
    "# original image"
   ]
  },
  {
   "cell_type": "code",
   "execution_count": 37,
   "metadata": {
    "execution": {
     "iopub.execute_input": "2024-03-31T14:52:46.651044Z",
     "iopub.status.busy": "2024-03-31T14:52:46.650482Z",
     "iopub.status.idle": "2024-03-31T14:52:46.941932Z",
     "shell.execute_reply": "2024-03-31T14:52:46.940529Z",
     "shell.execute_reply.started": "2024-03-31T14:52:46.650970Z"
    }
   },
   "outputs": [
    {
     "data": {
      "text/plain": [
       "<matplotlib.image.AxesImage at 0x7d6afc3f0208>"
      ]
     },
     "execution_count": 37,
     "metadata": {},
     "output_type": "execute_result"
    },
    {
     "data": {
      "image/png": "[encoded data removed]",
      "text/plain": [
       "<Figure size 432x288 with 1 Axes>"
      ]
     },
     "metadata": {},
     "output_type": "display_data"
    }
   ],
   "source": [
    "plt.imshow(x_test.reshape(len(x_test),28,28)[4])"
   ]
  },
  {
   "cell_type": "markdown",
   "metadata": {},
   "source": [
    "# Reconstructed learned image"
   ]
  },
  {
   "cell_type": "code",
   "execution_count": 38,
   "metadata": {
    "execution": {
     "iopub.execute_input": "2024-03-31T14:52:50.297113Z",
     "iopub.status.busy": "2024-03-31T14:52:50.296450Z",
     "iopub.status.idle": "2024-03-31T14:52:50.576267Z",
     "shell.execute_reply": "2024-03-31T14:52:50.574943Z",
     "shell.execute_reply.started": "2024-03-31T14:52:50.297038Z"
    }
   },
   "outputs": [
    {
     "data": {
      "text/plain": [
       "<matplotlib.image.AxesImage at 0x7d6afc27c978>"
      ]
     },
     "execution_count": 38,
     "metadata": {},
     "output_type": "execute_result"
    },
    {
     "data": {
      "image/png": "[encoded data removed]",
      "text/plain": [
       "<Figure size 432x288 with 1 Axes>"
      ]
     },
     "metadata": {},
     "output_type": "display_data"
    }
   ],
   "source": [
    "plt.imshow(data_output[4])"
   ]
  },
  {
   "cell_type": "code",
   "execution_count": null,
   "metadata": {},
   "outputs": [],
   "source": []
  },
  {
   "cell_type": "code",
   "execution_count": null,
   "metadata": {},
   "outputs": [],
   "source": []
  },
  {
   "cell_type": "code",
   "execution_count": null,
   "metadata": {},
   "outputs": [],
   "source": []
  },
  {
   "cell_type": "code",
   "execution_count": null,
   "metadata": {},
   "outputs": [],
   "source": []
  },
  {
   "cell_type": "code",
   "execution_count": null,
   "metadata": {},
   "outputs": [],
   "source": []
  }
 ],
 "metadata": {
  "kaggle": {
   "accelerator": "none",
   "dataSources": [],
   "dockerImageVersionId": 16559,
   "isGpuEnabled": false,
   "isInternetEnabled": true,
   "language": "python",
   "sourceType": "notebook"
  },
  "kernelspec": {
   "display_name": "Python 3 (ipykernel)",
   "language": "python",
   "name": "python3"
  },
  "language_info": {
   "codemirror_mode": {
    "name": "ipython",
    "version": 3
   },
   "file_extension": ".py",
   "mimetype": "text/x-python",
   "name": "python",
   "nbconvert_exporter": "python",
   "pygments_lexer": "ipython3",
   "version": "3.10.11"
  }
 },
 "nbformat": 4,
 "nbformat_minor": 4
}
